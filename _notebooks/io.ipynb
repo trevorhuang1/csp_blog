{
 "cells": [
  {
   "cell_type": "code",
   "execution_count": null,
   "metadata": {},
   "outputs": [],
   "source": [
    "# Read in a string\n",
    "my_str = input()\n",
    "# Prints the string on its own line\n",
    "print(my_str)\n",
    "\n",
    "# Take in an integer n on a single line\n",
    "n = int(input())\n",
    "# Prints n with \" test\" (no newline) after it\n",
    "print(n, end=\" test\")"
   ]
  },
  {
   "cell_type": "code",
   "execution_count": null,
   "metadata": {},
   "outputs": [],
   "source": [
    "# Import the sys module to use stdin/stdout\n",
    "import sys\n",
    "\n",
    "# sys.stdin/stdout is similar to a file in that we read lines for input/output\n",
    "my_str = sys.stdin.readline()\n",
    "sys.stdout.write(str(myStr) + \"\\n\")\n",
    "# Renaming the read/write methods for convenience\n",
    "input = sys.stdin.readline\n",
    "print = sys.stdout.write\n",
    "\n",
    "# Taking an integer as input\n",
    "my_int = int(input())\n",
    "# sys.stdout.write requires you to format code manually\n",
    "print(str(my_int) + \"\\n\")\n",
    "\n",
    "\"\"\"\n",
    "For larger inputs, you can buffer the problem's input,\n",
    "and sort through it yourself. This is the fastest input method for python.\n",
    "\"\"\"\n",
    "all_data = sys.stdin.read().split(\"\\n\")"
   ]
  },
  {
   "cell_type": "code",
   "execution_count": null,
   "metadata": {},
   "outputs": [],
   "source": [
    "import sys\n",
    "\n",
    "# Read in a series of numbers on one line into a list\n",
    "nums = [int(x) for x in input().split()]\n",
    "# This does the same thing\n",
    "nums = list(map(int, input().split()))\n",
    "\n",
    "# stdin/stdout, just replace input() with sys.stdin.readline()\n",
    "nums = list(map(int, sys.stdin.readline().split()))"
   ]
  },
  {
   "cell_type": "code",
   "execution_count": null,
   "metadata": {},
   "outputs": [],
   "source": [
    "import sys\n",
    "\n",
    "# Read in integers n and m on the same line with a list comprehension\n",
    "n, m = [int(x) for x in input().split()]\n",
    "# Do the same thing but with map instead\n",
    "n, m = map(int, input().split())\n",
    "\n",
    "# stdin and stdout\n",
    "n, m = map(int, sys.stdin.readline().split())"
   ]
  },
  {
   "cell_type": "code",
   "execution_count": null,
   "metadata": {},
   "outputs": [],
   "source": [
    "import sys\n",
    "\n",
    "a, b, c = map(int, input().split())\n",
    "print(\"The sum of these three numbers is\", a + b + c)\n",
    "\n",
    "# stdin and stdout\n",
    "a, b, c = map(int, sys.stdin.readline().split())\n",
    "print(\"The sum of these three numbers is\", a + b + c)"
   ]
  },
  {
   "cell_type": "code",
   "execution_count": null,
   "metadata": {},
   "outputs": [],
   "source": [
    "import sys\n",
    "\n",
    "sys.stdin = open(\"problemname.in\", \"r\")\n",
    "sys.stdout = open(\"problemname.out\", \"w\")"
   ]
  },
  {
   "cell_type": "code",
   "execution_count": null,
   "metadata": {},
   "outputs": [],
   "source": [
    "\"\"\"\n",
    "Note: The second argument can be omitted in the open()\n",
    "command for read-only files\n",
    "\"\"\"\n",
    "fin = open(\"problemname.in\", \"r\")\n",
    "fout = open(\"problemname.out\", \"w\")\n",
    "\n",
    "# One way to read the file using .readline()\n",
    "line1 = fin.readline()\n",
    "# readline() will pick up where you left off\n",
    "line2 = fin.readline()\n",
    "line3 = fin.readline()\n",
    "\n",
    "# Another way is to use a for loop and .readlines()\n",
    "line_list = []\n",
    "for line in fin.readlines():\n",
    "\tpass  # Process input here\n",
    "\n",
    "# printing line_list would give [line1, line2, line3]\n",
    "\n",
    "# Output:\n",
    "fout.write(output_text)  # Write to the output file\n",
    "\n",
    "# f-strings:\n",
    "variable1 = 1\n",
    "variable2 = 2\n",
    "example_str = f\"Hello {variable1} {variable2} World!\"\n",
    "# Printing example_str would give Hello 1 2 World!"
   ]
  },
  {
   "cell_type": "code",
   "execution_count": null,
   "metadata": {},
   "outputs": [],
   "source": [
    "nums = [int(x) for x in input().split()]\n",
    "n = nums[0]\n",
    "s = nums[1]\n",
    "k = 1\n",
    "count = 0\n",
    "l = []\n",
    "for i in range(n):\n",
    "    h = list(map(int, input().split()))\n",
    "    l.append(h)\n",
    "while 0 <= s <= n:\n",
    "    jp = l[s][0]\n",
    "    print(\"lol\",jp)\n",
    "    v = l[s][1]\n",
    "    print(\"guh\",v)\n",
    "    if jp == 0:\n",
    "        k = -(k + v)\n",
    "        s += k\n",
    "    elif jp == 1:\n",
    "        if k >= v:\n",
    "            count += 1\n",
    "            s += k\n",
    "            jp.pop()\n",
    "        else:\n",
    "            s += k\n",
    "    print(\"count\",count)\n",
    "    "
   ]
  }
 ],
 "metadata": {
  "language_info": {
   "name": "python"
  }
 },
 "nbformat": 4,
 "nbformat_minor": 2
}
