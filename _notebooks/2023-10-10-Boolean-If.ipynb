{
 "cells": [
  {
   "cell_type": "markdown",
   "metadata": {},
   "source": [
    "---\n",
    "comments: True\n",
    "layout: post\n",
    "title: 3.3-3.4 Boolean If\n",
    "description: Team Teach for Period 5\n",
    "author: Kyle Liang, Ian Wu, Trevor Huang, Jason Guan\n",
    "type: tangibles\n",
    "courses: {'csp': {'week': 8}}\n",
    "---"
   ]
  },
  {
   "cell_type": "markdown",
   "metadata": {},
   "source": [
    "## Review\n",
    "Quick review on if statements, boolean expressions, and college-board pseudo code\n",
    "\n",
    "### Boolean\n",
    "Data-type that can either be true or false"
   ]
  },
  {
   "cell_type": "code",
   "execution_count": 5,
   "metadata": {},
   "outputs": [
    {
     "name": "stdout",
     "output_type": "stream",
     "text": [
      "True\n",
      "False\n",
      "<class 'int'>\n"
     ]
    }
   ],
   "source": [
    "boolean = True\n",
    "print(boolean)\n",
    "boolean = False\n",
    "print(boolean)\n",
    "boolean = 1\n",
    "## boolean is not longer a boolean, now an integer\n",
    "print(type(boolean))"
   ]
  },
  {
   "cell_type": "markdown",
   "metadata": {},
   "source": [
    "### If-Statements\n",
    "\n",
    "Self, explanatory, runs a portion of code if expression/condition is satisfied.\n",
    "\n",
    "<code>\n",
    "if (EXPRESSION):\n",
    "    print('code to run here')\n",
    "</code>"
   ]
  },
  {
   "cell_type": "code",
   "execution_count": 6,
   "metadata": {},
   "outputs": [
    {
     "name": "stdout",
     "output_type": "stream",
     "text": [
      "Number is even\n"
     ]
    }
   ],
   "source": [
    "number = int(input('Enter a number: '))\n",
    "\n",
    "# Collegeboard talks about the modulo operation even in this section so here it is\n",
    "# % is the modulo operation\n",
    "# Easier way to think about it is the remainder when two numbers are divided\n",
    "# Ex. 14 % 6 = remainder of 14/6 = 2\n",
    "if (number % 2 == 0):\n",
    "    print('Number is even')\n",
    "else: \n",
    "    print('Number is odd')"
   ]
  },
  {
   "cell_type": "markdown",
   "metadata": {},
   "source": [
    "## Logic Gates\n",
    "Logic gates combine different boolean (true/false or 1/0) values into a single boolean value. As computers are composed of a bunch of binary/boolean values, logic gates are the \"logic\" of the computer (the ability to code).\n",
    "\n",
    "### Boolean Operators + Algebra\n",
    "> The basic operators in Boolean algebra are AND, OR, and NOT. The secondary operators are eXclusive OR (often called XOR) and eXclusive NOR (XNOR, sometimes called equivalence). They are secondary in the sense that they can be composed from the basic operators. (Source: ACSL)"
   ]
  },
  {
   "attachments": {
    "image.png": {
     "image/png": "[encoded data removed]"
    }
   },
   "cell_type": "markdown",
   "metadata": {},
   "source": [
    "### AND\n",
    ">The AND of two values is true only whenever both values are true. It is written as *AB* or *A⋅B*. (Source: ACSL)\n",
    "\n",
    "| A | B | A AND B |\n",
    "|---|---|---------|\n",
    "| 0 | 0 |   0     |\n",
    "| 0 | 1 |   0     |\n",
    "| 1 | 0 |   0     |\n",
    "| 1 | 1 |   1     |\n",
    "\n",
    "![image.png](attachment:image.png)\n",
    "\n",
    "Real-life example of AND: If it's sunny (A) AND it's a weekend (B), then I will go to the beach :)\n",
    "\n",
    "#### Hack #1: AND in Python\n",
    ">1. Replace \"A\" with \"isSunny\" and \"B\" with \"isAWeekend\"\n",
    ">2. Add an \"else\" statement to the current if-statement, and display an appropriate response for each block\n",
    ">3. Change the two variables between True and False to see what output you'll get!\n",
    ">4. (CHALLENGE): Make the code more user-friendly with \"input()\""
   ]
  },
  {
   "cell_type": "code",
   "execution_count": null,
   "metadata": {},
   "outputs": [],
   "source": [
    "# CB Pseudo Code\n",
    "\n",
    "A ← true\n",
    "B ← true\n",
    "\n",
    "IF (A AND B) {\n",
    "   DISPLAY(\"It's true!\")\n",
    "}"
   ]
  },
  {
   "cell_type": "code",
   "execution_count": 5,
   "metadata": {},
   "outputs": [
    {
     "name": "stdout",
     "output_type": "stream",
     "text": [
      "It's true!\n"
     ]
    }
   ],
   "source": [
    "# Python\n",
    "\n",
    "A = True\n",
    "B = True\n",
    "\n",
    "if A and B: # Bitwise syntax: A & B\n",
    "    print(\"It's true!\")\n"
   ]
  },
  {
   "attachments": {
    "image-2.png": {
     "image/png": "[encoded data removed]"
    }
   },
   "cell_type": "markdown",
   "metadata": {},
   "source": [
    "### OR\n",
    ">The OR of two values is true whenever either or both values are true. It is written as *A+B*. The values of or for all possible inputs is shown in the following truth table (Source: ACSL)\n",
    "\n",
    "| A | B | A OR B |\n",
    "|---|---|--------|\n",
    "| 0 | 0 |   0    |\n",
    "| 0 | 1 |   1    |\n",
    "| 1 | 0 |   1    |\n",
    "| 1 | 1 |   1    |\n",
    "\n",
    "![image-2.png](attachment:image-2.png)\n",
    "\n",
    "Real-life example of OR: If it's my birthday (A) OR it's Christmas (B), then I will get a present :D\n",
    "\n",
    "#### Hack #2: OR in Python\n",
    ">1. Follow the \"AND in Python\" hack to make the code applicable to a real-life example (e.g. my birthday or christmas).\n",
    ">2. Try different combinations of A and B "
   ]
  },
  {
   "cell_type": "code",
   "execution_count": null,
   "metadata": {},
   "outputs": [],
   "source": [
    "# CB Pseudo Code\n",
    "\n",
    "A ← true\n",
    "B ← false\n",
    "\n",
    "IF (A OR B) {\n",
    "   DISPLAY(\"It's true!\")\n",
    "}"
   ]
  },
  {
   "cell_type": "code",
   "execution_count": 4,
   "metadata": {},
   "outputs": [
    {
     "name": "stdout",
     "output_type": "stream",
     "text": [
      "It's true!\n",
      "True\n"
     ]
    }
   ],
   "source": [
    "# Python\n",
    "\n",
    "A = True\n",
    "B = False\n",
    "\n",
    "if A or B: # Bit-mask syntax: A | B\n",
    "    print(\"It's true!\")\n"
   ]
  },
  {
   "attachments": {
    "image-2.png": {
     "image/png": "[encoded data removed]"
    }
   },
   "cell_type": "markdown",
   "metadata": {},
   "source": [
    "### NOT\n",
    ">The NOT of a value is its opposite; that is, the not of a true value is false whereas the not of a false value is true. It is written as [x with a dash above] or ¬x. (Source: ACSL)\n",
    "\n",
    "| A | NOT A |\n",
    "|---|-------|\n",
    "| 0 |   1   |\n",
    "| 1 |   0   |\n",
    "\n",
    "![image-2.png](attachment:image-2.png)\n",
    "\n",
    "Real-life example of NOT: If I do NOT pass AP Chemistry (A), my family will disown me ;-;\n",
    "\n",
    "#### Hack #3: NOT in Python\n",
    ">1. Follow the \"AND in Python\" hack to make the code applicable to a real-life example (e.g. passing AP Chem).\n",
    ">2. Try different combinations of A\n",
    ">3. (CHALLENGE): Combine the NOT logic gate with the AND logic gate or the OR logic gate"
   ]
  },
  {
   "cell_type": "code",
   "execution_count": null,
   "metadata": {},
   "outputs": [],
   "source": [
    "# CB Pseudo Code\n",
    "\n",
    "A ← false\n",
    "\n",
    "IF (NOT A) {\n",
    "   DISPLAY(\"It's true!\")\n",
    "}"
   ]
  },
  {
   "cell_type": "code",
   "execution_count": 8,
   "metadata": {},
   "outputs": [
    {
     "name": "stdout",
     "output_type": "stream",
     "text": [
      "It's true!\n"
     ]
    }
   ],
   "source": [
    "# Python\n",
    "\n",
    "A = False\n",
    "\n",
    "if not A: # No equivalent bitwise syntax in python\n",
    "    print(\"It's true!\")\n"
   ]
  },
  {
   "attachments": {
    "image-3.png": {
     "image/png": "[encoded data removed]"
    }
   },
   "cell_type": "markdown",
   "metadata": {},
   "source": [
    "### XOR\n",
    ">The XOR of two values is true whenever the values are different. It uses the ⊕ operator, and can be built from the basic operators: x⊕y = x*(not y) + (not x)*y (Source: ACSL)\n",
    "\n",
    "| A | B | A XOR B |\n",
    "|---|---|--------|\n",
    "| 0 | 0 |   0    |\n",
    "| 0 | 1 |   1    |\n",
    "| 1 | 0 |   1    |\n",
    "| 1 | 1 |   0    |\n",
    "\n",
    "![image-3.png](attachment:image-3.png)\n",
    "\n",
    "Real-life example of XOR: If I play video games (A) XOR I watch a movie (B), I will be entertained :O\n",
    "\n",
    "Another example: There is a light connected to two switches. If the first switch is on (A) XOR the second switch is on (B), then the light will turn on. Note here that flipping either switch (changing either input) changes the output.\n",
    "\n",
    "#### Hack #4: XOR in Python\n",
    ">1. Follow the \"AND in Python\" hack to make the code applicable to a real-life example (e.g. playing video games XOR watching a movie).\n",
    ">2. Try different combinations of A and B\n",
    ">3. (CHALLENGE): Use NOT, AND, and OR logic gates to code an XOR gate."
   ]
  },
  {
   "cell_type": "raw",
   "metadata": {},
   "source": [
    "# CB Pseudo Code\n",
    "\n",
    "A ← false\n",
    "B ← true\n",
    "\n",
    "IF (A XOR B) {\n",
    "   DISPLAY(\"It's true!\")\n",
    "}"
   ]
  },
  {
   "cell_type": "code",
   "execution_count": 9,
   "metadata": {},
   "outputs": [
    {
     "name": "stdout",
     "output_type": "stream",
     "text": [
      "It's true!\n"
     ]
    }
   ],
   "source": [
    "# Python\n",
    "\n",
    "A = False\n",
    "B = True\n",
    "\n",
    "if A ^ B: # Only bitwise syntax, no \"xor\" keyword\n",
    "    print(\"It's true!\")\n"
   ]
  },
  {
   "attachments": {
    "image-3.png": {
     "image/png": "[encoded data removed]"
    }
   },
   "cell_type": "markdown",
   "metadata": {},
   "source": [
    "### NAND\n",
    ">NAND is the NOT of the result of AND. In other words, the result of NAND is true if at least one value is false.\n",
    "\n",
    "| A | B | A NAND B |\n",
    "|---|---|--------|\n",
    "| 0 | 0 |   1    |\n",
    "| 0 | 1 |   1    |\n",
    "| 1 | 0 |   1    |\n",
    "| 1 | 1 |   0    |\n",
    "\n",
    "![image-3.png](attachment:image-3.png)\n",
    "\n",
    "Real-life example of NAND: If I forget my computer (A) NAND I forget my phone (B), I can access the internet :P\n",
    "\n",
    "#### Hack #5: NAND in Python\n",
    ">1. Follow the \"AND in Python\" hack to make the code applicable to a real-life example (e.g. forgetting your phone NAND forgetting your computer).\n",
    ">2. Try different combinations of A and B"
   ]
  },
  {
   "cell_type": "code",
   "execution_count": null,
   "metadata": {},
   "outputs": [],
   "source": [
    "# CB Pseudo Code\n",
    "\n",
    "A ← false\n",
    "B ← true\n",
    "\n",
    "IF (NOT (A AND B)) {\n",
    "   DISPLAY(\"It's true!\")\n",
    "}"
   ]
  },
  {
   "cell_type": "code",
   "execution_count": 10,
   "metadata": {},
   "outputs": [
    {
     "name": "stdout",
     "output_type": "stream",
     "text": [
      "It's true!\n"
     ]
    }
   ],
   "source": [
    "# Python\n",
    "\n",
    "A = False\n",
    "B = True\n",
    "\n",
    "if not (A and B): \n",
    "    print(\"It's true!\")\n"
   ]
  },
  {
   "attachments": {
    "image-4.png": {
     "image/png": "[encoded data removed]"
    }
   },
   "cell_type": "markdown",
   "metadata": {},
   "source": [
    "### NOR\n",
    ">NOR is the NOT of the result of OR. In other words, the result of NOR is true if and only if both values are false.\n",
    "\n",
    "| A | B | A NOR B |\n",
    "|---|---|--------|\n",
    "| 0 | 0 |   1    |\n",
    "| 0 | 1 |   0    |\n",
    "| 1 | 0 |   0    |\n",
    "| 1 | 1 |   0    |\n",
    "\n",
    "![image-4.png](attachment:image-4.png)\n",
    "\n",
    "Real-life example of NOR: If there's a fire (A) NOR there's an earthquake (B) then I'll be ok :S\n",
    "\n",
    "#### Hack #6: NOR in Python\n",
    ">1. Follow the \"AND in Python\" hack to make the code applicable to a real-life example (e.g. there's a fire NOR there's an earthquake).\n",
    ">2. Try different combinations of A and B"
   ]
  },
  {
   "cell_type": "code",
   "execution_count": null,
   "metadata": {},
   "outputs": [],
   "source": [
    "# CB Pseudo Code\n",
    "\n",
    "A ← false\n",
    "B ← true\n",
    "\n",
    "IF (NOT (A OR B)) {\n",
    "   DISPLAY(\"It's true!\")\n",
    "}"
   ]
  },
  {
   "cell_type": "code",
   "execution_count": 10,
   "metadata": {},
   "outputs": [
    {
     "name": "stdout",
     "output_type": "stream",
     "text": [
      "It's true!\n"
     ]
    }
   ],
   "source": [
    "# Python\n",
    "\n",
    "A = False\n",
    "B = True\n",
    "\n",
    "if not (A or B):\n",
    "    print(\"It's true!\")\n"
   ]
  },
  {
   "attachments": {},
   "cell_type": "markdown",
   "metadata": {},
   "source": [
    "### De-Morgan's Law\n",
    ">An OR (AND) expression that is negated is equal to the AND (OR) of the negation of each term. (Source: ACSL)\n",
    "\n",
    "NOT (A AND B) = (NOT A) OR (NOT B)\n",
    "\n",
    "- Using same beach example as above:\n",
    "    - If it is sunny OR it is a weekend, I will go the beach (A AND B). If I go to the beach, I will NOT stay home.\n",
    "    - The above can be simplified to if it is NOT sunny (A), OR NOT a weekend (B), I will stay home.\n",
    "\n",
    "NOT (A OR B) = (NOT A) AND (NOT B)\n",
    "\n",
    "- If it is NOT (my birthday (A) OR Christmas (B)), then I don't get a present\n",
    "- The above is the same as if it is NOT my birthday (A) AND NOT Christmas (B), then I don't get a present\n",
    "\n",
    "\n",
    "#### Hack #7: De-Morgan's Law\n",
    ">Go to the following link, scroll down to Sample Problem #1, and solve: http://www.categories.acsl.org/wiki/index.php?title=Boolean_Algebra"
   ]
  },
  {
   "cell_type": "markdown",
   "metadata": {},
   "source": [
    "### Order of Precedence\n",
    "> The order of operator precedence is NOT; then AND; then XOR and XNOR; and finally OR. Operators with the same level of precedence are evaluated from left-to-right. (Source: ACSL)"
   ]
  },
  {
   "cell_type": "markdown",
   "metadata": {},
   "source": [
    "## Homework Hacks\n",
    "\n",
    "1. There is one more logic gate, known as an XNOR, or exclusive-NOR gate. It is a combination of an XOR and a NOT gate. Create a table like the ones above to demonstrate input and output values of this gate.\n",
    "\n",
    "2. Create a python program to show the XNOR gate. Create a program with a use that uses the XNOR gate and another gate above.\n",
    "\n",
    "3. Bob is grading homework from a peer teaching project. He needs to mark a student's homework as incomplete if they did NOT complete all the problems, OR did NOT submit it on time. Unfortunately, his teammate Cob did not give him any other information, and is now on vacation. Bob needs to do this using only TWO logic gates (don't ask why). Help Bob write a program to grade his class's homework!"
   ]
  },
  {
   "cell_type": "code",
   "execution_count": null,
   "metadata": {},
   "outputs": [],
   "source": [
    "isComplete = {'Student 1': 1, 'Student 2': 1, 'Student 3': 0, 'Student 4': 1, 'Student 5': 0, 'Student 6': 1}\n",
    "isOnTime = {'Student 1': 1, 'Student 2': 0, 'Student 3': 0, 'Student 4': 1, 'Student 5': 1, 'Student 6': 1}\n",
    "\n",
    "## Program Here\n",
    "\n",
    "## Example output: {'Student 1': 'Incomplete', 'Student 2': 'Incomplete', 'Student 3': 'Incomplete', 'Student 4': 'Incomplete', 'Student 5': 'Incomplete', 'Student 6', 'Complete'}\n",
    "## Extra: Format the output nicely"
   ]
  },
  {
   "cell_type": "markdown",
   "metadata": {},
   "source": [
    "4. BONUS (DIFFICULT):\n",
    "Every single logic gate can be constructed from NAND or NOR gates alone. Construct a XOR gate from NAND gates, and demonstrate in python."
   ]
  }
 ],
 "metadata": {
  "kernelspec": {
   "display_name": "Python 3 (ipykernel)",
   "language": "python",
   "name": "python3"
  },
  "language_info": {
   "codemirror_mode": {
    "name": "ipython",
    "version": 3
   },
   "file_extension": ".py",
   "mimetype": "text/x-python",
   "name": "python",
   "nbconvert_exporter": "python",
   "pygments_lexer": "ipython3",
   "version": "3.10.12"
  }
 },
 "nbformat": 4,
 "nbformat_minor": 1
}
