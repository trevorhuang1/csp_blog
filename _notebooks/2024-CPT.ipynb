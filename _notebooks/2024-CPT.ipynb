{
 "cells": [
  {
   "cell_type": "code",
   "execution_count": 2,
   "metadata": {},
   "outputs": [
    {
     "ename": "TypeError",
     "evalue": "search() got an unexpected keyword argument 'stop'",
     "output_type": "error",
     "traceback": [
      "\u001b[0;31m---------------------------------------------------------------------------\u001b[0m",
      "\u001b[0;31mTypeError\u001b[0m                                 Traceback (most recent call last)",
      "\u001b[0;32m/tmp/ipykernel_19926/2473343082.py\u001b[0m in \u001b[0;36m<module>\u001b[0;34m\u001b[0m\n\u001b[1;32m     14\u001b[0m     \u001b[0;32mreturn\u001b[0m \u001b[0murls\u001b[0m\u001b[0;34m\u001b[0m\u001b[0;34m\u001b[0m\u001b[0m\n\u001b[1;32m     15\u001b[0m \u001b[0;34m\u001b[0m\u001b[0m\n\u001b[0;32m---> 16\u001b[0;31m \u001b[0mpracticeTests\u001b[0m \u001b[0;34m=\u001b[0m \u001b[0mquery\u001b[0m\u001b[0;34m(\u001b[0m\u001b[0msubject\u001b[0m \u001b[0;34m+\u001b[0m \u001b[0;34m'practice mcqs'\u001b[0m\u001b[0;34m,\u001b[0m \u001b[0;36m5\u001b[0m\u001b[0;34m)\u001b[0m\u001b[0;34m\u001b[0m\u001b[0;34m\u001b[0m\u001b[0m\n\u001b[0m\u001b[1;32m     17\u001b[0m \u001b[0mstudyResources\u001b[0m \u001b[0;34m=\u001b[0m \u001b[0mquery\u001b[0m\u001b[0;34m(\u001b[0m\u001b[0msubject\u001b[0m \u001b[0;34m+\u001b[0m \u001b[0;34m'review'\u001b[0m\u001b[0;34m,\u001b[0m \u001b[0;36m5\u001b[0m\u001b[0;34m)\u001b[0m\u001b[0;34m\u001b[0m\u001b[0;34m\u001b[0m\u001b[0m\n\u001b[1;32m     18\u001b[0m \u001b[0mtextBooks\u001b[0m \u001b[0;34m=\u001b[0m \u001b[0mquery\u001b[0m\u001b[0;34m(\u001b[0m\u001b[0msubject\u001b[0m \u001b[0;34m+\u001b[0m \u001b[0;34m'textbooks'\u001b[0m\u001b[0;34m,\u001b[0m \u001b[0;36m5\u001b[0m\u001b[0;34m)\u001b[0m\u001b[0;34m\u001b[0m\u001b[0;34m\u001b[0m\u001b[0m\n",
      "\u001b[0;32m/tmp/ipykernel_19926/2473343082.py\u001b[0m in \u001b[0;36mquery\u001b[0;34m(Search, numResults)\u001b[0m\n\u001b[1;32m     10\u001b[0m \u001b[0;32mdef\u001b[0m \u001b[0mquery\u001b[0m\u001b[0;34m(\u001b[0m\u001b[0mSearch\u001b[0m\u001b[0;34m,\u001b[0m\u001b[0mnumResults\u001b[0m\u001b[0;34m)\u001b[0m\u001b[0;34m:\u001b[0m\u001b[0;34m\u001b[0m\u001b[0;34m\u001b[0m\u001b[0m\n\u001b[1;32m     11\u001b[0m     \u001b[0murls\u001b[0m \u001b[0;34m=\u001b[0m \u001b[0;34m[\u001b[0m\u001b[0;34m]\u001b[0m\u001b[0;34m\u001b[0m\u001b[0;34m\u001b[0m\u001b[0m\n\u001b[0;32m---> 12\u001b[0;31m     \u001b[0;32mfor\u001b[0m \u001b[0murl\u001b[0m \u001b[0;32min\u001b[0m \u001b[0msearch\u001b[0m\u001b[0;34m(\u001b[0m\u001b[0mSearch\u001b[0m\u001b[0;34m,\u001b[0m\u001b[0mstop\u001b[0m \u001b[0;34m=\u001b[0m \u001b[0mnumResults\u001b[0m\u001b[0;34m)\u001b[0m\u001b[0;34m:\u001b[0m\u001b[0;34m\u001b[0m\u001b[0;34m\u001b[0m\u001b[0m\n\u001b[0m\u001b[1;32m     13\u001b[0m         \u001b[0murls\u001b[0m\u001b[0;34m.\u001b[0m\u001b[0mappend\u001b[0m\u001b[0;34m(\u001b[0m\u001b[0murl\u001b[0m\u001b[0;34m)\u001b[0m\u001b[0;34m\u001b[0m\u001b[0;34m\u001b[0m\u001b[0m\n\u001b[1;32m     14\u001b[0m     \u001b[0;32mreturn\u001b[0m \u001b[0murls\u001b[0m\u001b[0;34m\u001b[0m\u001b[0;34m\u001b[0m\u001b[0m\n",
      "\u001b[0;31mTypeError\u001b[0m: search() got an unexpected keyword argument 'stop'"
     ]
    }
   ],
   "source": [
    "from googlesearch import search\n",
    "\n",
    "#REMOVE ALL COMMENTS\n",
    "#Dictionary list to store dates with all resource links\n",
    "\n",
    "subject = input(\"What subject would you like to create a study plan for?\")\n",
    "calendarDays = []\n",
    "\n",
    "# Function to search the web for any links relating to the subject the user wants to search for\n",
    "def query(Search,numResults):\n",
    "    urls = []\n",
    "    for url in search(Search,stop = numResults):\n",
    "        urls.append(url)\n",
    "    return urls\n",
    "\n",
    "practiceTests = query(subject + 'practice mcqs', 5)\n",
    "studyResources = query(subject + 'review', 5)\n",
    "textBooks = query(subject + 'textbooks', 5)\n",
    "\n",
    "resourceCounter = 0\n",
    "createPlan = input(\"Would you like to create study plan? y/n\")\n",
    "if createPlan == 'y':\n",
    "    numDays = input(\"How many days long would you like your study plan to be?\")\n",
    "    for i in range(int(numDays)):\n",
    "        dayDictionary = {'day': 'Day ' + i}\n",
    "        if i%3 == 0:\n",
    "            dayDictionary['practice mc'] = practiceTests[resourceCounter]\n",
    "            dayDictionary['textbook'] = textBooks[resourceCounter]\n",
    "            resourceCounter += 1\n",
    "        dayDictionary['resource'] = studyResources[i]\n",
    "        calendarDays.append()\n",
    "# Print resources and practice tests for projects\n",
    "print(calendarDays)\n",
    "\n",
    "\n",
    "#Tag each recipe w \"Cuisine\"\n",
    "#Get Non-Cuisine specific recipies   Ex: food blogs\n",
    "#Getting into different websites\n",
    "\n",
    "\n",
    "#Looking through each website for RECIPE and TITLE \n",
    "\n",
    "\n",
    "#Output to a file"
   ]
  }
 ],
 "metadata": {
  "kernelspec": {
   "display_name": "Python 3",
   "language": "python",
   "name": "python3"
  },
  "language_info": {
   "codemirror_mode": {
    "name": "ipython",
    "version": 3
   },
   "file_extension": ".py",
   "mimetype": "text/x-python",
   "name": "python",
   "nbconvert_exporter": "python",
   "pygments_lexer": "ipython3",
   "version": "3.10.12"
  }
 },
 "nbformat": 4,
 "nbformat_minor": 2
}
