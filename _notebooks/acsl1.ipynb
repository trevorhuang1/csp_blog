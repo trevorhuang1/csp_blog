{
 "cells": [
  {
   "cell_type": "code",
   "execution_count": 120,
   "metadata": {},
   "outputs": [
    {
     "name": "stdout",
     "output_type": "stream",
     "text": [
      "['4', '4', '1']\n"
     ]
    }
   ],
   "source": [
    "def findDiscardSum(originalRows, tiles):\n",
    "    list = []\n",
    "    discard = []\n",
    "    originalRows = str(originalRows)\n",
    "    for i in range(len(originalRows)):\n",
    "        list.append(originalRows[i])\n",
    "    for i in range(len(list)):\n",
    "        if (tiles[i] == list[i] + tiles[i][:1]):\n",
    "            list[i] = list[i] + tiles[i][:1]\n",
    "    return list\n",
    "\n",
    "blah = [\"10\", \"20\", \"30\", \"40\"]\n",
    "print(findDiscardSum(5923, blah))"
   ]
  },
  {
   "cell_type": "code",
   "execution_count": 191,
   "metadata": {},
   "outputs": [
    {
     "name": "stdout",
     "output_type": "stream",
     "text": [
      "addition 1  5\n",
      "addition 2  6\n",
      "addition 1  2\n",
      "addition 2  7\n",
      "addition 1  7\n",
      "addition 2  3\n",
      "addition 1  3\n",
      "addition 2  4\n",
      "addition 1  5\n",
      "addition 2  6\n",
      "addition 1  2\n",
      "addition 2  7\n",
      "addition 1  7\n",
      "addition 2  3\n",
      "addition 1  3\n",
      "addition 2  4\n",
      "addition 1  5\n",
      "addition 2  6\n",
      "addition 1  2\n",
      "addition 2  7\n",
      "addition 1  7\n",
      "addition 2  3\n",
      "addition 1  3\n",
      "addition 2  4\n",
      "addition 1  5\n",
      "addition 2  6\n",
      "addition 1  2\n",
      "addition 2  7\n",
      "addition 1  7\n",
      "addition 2  3\n",
      "addition 1  3\n",
      "addition 2  4\n",
      "addition 1  5\n",
      "addition 2  6\n",
      "addition 1  2\n",
      "addition 2  7\n",
      "addition 1  7\n",
      "addition 2  3\n",
      "addition 1  3\n",
      "addition 2  4\n",
      "addition 1  5\n",
      "addition 2  6\n",
      "addition 1  2\n",
      "addition 2  7\n",
      "addition 1  7\n",
      "addition 2  3\n",
      "addition 1  3\n",
      "addition 2  4\n",
      "addition 1  5\n",
      "addition 2  6\n",
      "addition 1  2\n",
      "addition 2  7\n",
      "addition 1  7\n",
      "addition 2  3\n",
      "addition 1  3\n",
      "addition 2  4\n",
      "addition 1  5\n",
      "addition 2  6\n",
      "addition 1  2\n",
      "addition 2  7\n",
      "addition 1  7\n",
      "addition 2  3\n",
      "addition 1  3\n",
      "addition 2  4\n",
      "addition 1  5\n",
      "addition 2  6\n",
      "addition 1  2\n",
      "addition 2  7\n",
      "addition 1  7\n",
      "addition 2  3\n",
      "addition 1  3\n",
      "addition 2  4\n",
      "addition 1  5\n",
      "addition 2  6\n",
      "addition 1  2\n",
      "addition 2  7\n",
      "addition 1  7\n",
      "addition 2  3\n",
      "addition 1  3\n",
      "addition 2  4\n",
      "addition 1  5\n",
      "addition 2  6\n",
      "addition 1  2\n",
      "addition 2  7\n",
      "addition 1  7\n",
      "addition 2  3\n",
      "addition 1  3\n",
      "addition 2  4\n",
      "407\n"
     ]
    }
   ],
   "source": [
    "def findDiscardSum(originalRows, tiles):\n",
    "    list = []\n",
    "    discard = 0\n",
    "    tiles = tiles.split()\n",
    "    originalRows = str(originalRows)\n",
    "    for i in range(len(originalRows)):\n",
    "        list.append(originalRows[i])\n",
    "    for i in range(len(tiles)):\n",
    "        for i in range(len(list)):\n",
    "            if (tiles[i] == list[i] + tiles[i][0]):\n",
    "                list[i] = list[i] + tiles[i][0]\n",
    "            elif (tiles[i] == tiles[i][0] + list[i]):\n",
    "                list[i] = tiles[i][0] + list[i]\n",
    "            else:\n",
    "                discard = discard + int(tiles[i][0]) + int(tiles[i][1])\n",
    "                print(\"addition 1 \",int(tiles[i][0]))\n",
    "                print(\"addition 2 \",int(tiles[i][1]))\n",
    "    return discard\n",
    "\n",
    "blah = \"56 27 73 34 99 45 32 19 64 57 18\"\n",
    "print(findDiscardSum(5923, blah))"
   ]
  },
  {
   "cell_type": "code",
   "execution_count": 108,
   "metadata": {},
   "outputs": [
    {
     "name": "stdout",
     "output_type": "stream",
     "text": [
      "0\n"
     ]
    }
   ],
   "source": [
    "list = [\"100\", \"200\", \"300\"]\n",
    "hello = list[0][1]\n",
    "\n",
    "print(hello)"
   ]
  },
  {
   "cell_type": "code",
   "execution_count": 94,
   "metadata": {},
   "outputs": [
    {
     "name": "stdout",
     "output_type": "stream",
     "text": [
      "['4', '4', '1']\n"
     ]
    }
   ],
   "source": [
    "a = [\"41\",\"42\",\"21\"]\n",
    "b = [\"4\",\"4\",\"1\"]\n",
    "\n",
    "def hello(list, tiles):\n",
    "    for i in range(len(list)):\n",
    "        if (tiles[i] == list[i] + tiles[i][:1]):\n",
    "            list[i] = list[i] + tiles[i][:1]\n",
    "    return list\n",
    "\n",
    "print(hello(b, a))"
   ]
  },
  {
   "cell_type": "code",
   "execution_count": 195,
   "metadata": {},
   "outputs": [
    {
     "name": "stdout",
     "output_type": "stream",
     "text": [
      "389\n"
     ]
    }
   ],
   "source": [
    "def findDiscardSum(originalRows, tiles):\n",
    "    list = []\n",
    "    discard = 0\n",
    "    tiles = tiles.split()\n",
    "    originalRows = str(originalRows)\n",
    "    for i in range(len(originalRows)):\n",
    "        list.append(originalRows[i])\n",
    "    for i in range(len(tiles)):\n",
    "        for i in range(len(list)):\n",
    "            if (tiles[i] == list[i] + tiles[i][1]):\n",
    "                list[i] = list[i] + tiles[i][1]\n",
    "            elif (tiles[i][::-1] == tiles[i][0] + list[i]):\n",
    "                list[i] = tiles[i][0] + list[i]\n",
    "            else:\n",
    "                discard = discard + int(tiles[i][0]) + int(tiles[i][1])\n",
    "    return discard\n",
    "\n",
    "blah = \"56 27 73 34 99 45 32 19 64 57 18\"\n",
    "print(findDiscardSum(5923, blah))"
   ]
  },
  {
   "cell_type": "code",
   "execution_count": 188,
   "metadata": {},
   "outputs": [
    {
     "name": "stdout",
     "output_type": "stream",
     "text": [
      "['10', '20', '30', '40', '50', 85]\n"
     ]
    }
   ],
   "source": [
    "hi = \"10 20 30 40 50\"\n",
    "yolo = hi.split()\n",
    "yolo.append(85)\n",
    "print(yolo)"
   ]
  },
  {
   "cell_type": "code",
   "execution_count": 127,
   "metadata": {},
   "outputs": [
    {
     "ename": "TypeError",
     "evalue": "string indices must be integers",
     "output_type": "error",
     "traceback": [
      "\u001b[0;31m---------------------------------------------------------------------------\u001b[0m",
      "\u001b[0;31mTypeError\u001b[0m                                 Traceback (most recent call last)",
      "\u001b[0;32m/tmp/ipykernel_953/1818766058.py\u001b[0m in \u001b[0;36m<module>\u001b[0;34m\u001b[0m\n\u001b[1;32m      2\u001b[0m \u001b[0mlist\u001b[0m \u001b[0;34m=\u001b[0m \u001b[0;34m[\u001b[0m\u001b[0;34m]\u001b[0m\u001b[0;34m\u001b[0m\u001b[0;34m\u001b[0m\u001b[0m\n\u001b[1;32m      3\u001b[0m \u001b[0;32mfor\u001b[0m \u001b[0mnumber\u001b[0m \u001b[0;32min\u001b[0m \u001b[0mtiles\u001b[0m\u001b[0;34m:\u001b[0m\u001b[0;34m\u001b[0m\u001b[0;34m\u001b[0m\u001b[0m\n\u001b[0;32m----> 4\u001b[0;31m     \u001b[0;32mwhile\u001b[0m \u001b[0mtiles\u001b[0m\u001b[0;34m[\u001b[0m\u001b[0mnumber\u001b[0m\u001b[0;34m]\u001b[0m \u001b[0;34m!=\u001b[0m \u001b[0;34m\" \"\u001b[0m\u001b[0;34m:\u001b[0m\u001b[0;34m\u001b[0m\u001b[0;34m\u001b[0m\u001b[0m\n\u001b[0m\u001b[1;32m      5\u001b[0m         \u001b[0mlist\u001b[0m\u001b[0;34m.\u001b[0m\u001b[0mappend\u001b[0m\u001b[0;34m(\u001b[0m\u001b[0mnumber\u001b[0m\u001b[0;34m)\u001b[0m\u001b[0;34m\u001b[0m\u001b[0;34m\u001b[0m\u001b[0m\n\u001b[1;32m      6\u001b[0m \u001b[0mprint\u001b[0m\u001b[0;34m(\u001b[0m\u001b[0mlist\u001b[0m\u001b[0;34m)\u001b[0m\u001b[0;34m\u001b[0m\u001b[0;34m\u001b[0m\u001b[0m\n",
      "\u001b[0;31mTypeError\u001b[0m: string indices must be integers"
     ]
    }
   ],
   "source": [
    "tiles = \"56 27 73 34 99 45 32 19 64 57 18\"\n",
    "list = []\n",
    "for number in tiles:\n",
    "    while tiles[number] != \" \":\n",
    "        list.append(number)\n",
    "print(list)"
   ]
  },
  {
   "cell_type": "code",
   "execution_count": 234,
   "metadata": {},
   "outputs": [
    {
     "name": "stdout",
     "output_type": "stream",
     "text": [
      "392\n"
     ]
    }
   ],
   "source": [
    "def findDiscardSum(originalRows, tiles):\n",
    "    list = []\n",
    "    discard = 0\n",
    "    tiles = tiles.split()\n",
    "    originalRows = str(originalRows)\n",
    "    for i in range(len(originalRows)):\n",
    "        list.append(originalRows[i])\n",
    "    for i in range(len(tiles)):\n",
    "        for n in range(len(list)):\n",
    "            if tiles[i][0] == list[n]:\n",
    "                list[n] += tiles[i][1]\n",
    "            elif tiles[i][1] == list[n]:\n",
    "                list[n] += tiles[i][0]\n",
    "            else:\n",
    "                discard =  discard + int(tiles[i][0]) + int(tiles[i][1])\n",
    "    return discard\n",
    "\n",
    "print(findDiscardSum(5923, \"56 27 73 34 99 45 32 19 64 57 18\"))"
   ]
  }
 ],
 "metadata": {
  "kernelspec": {
   "display_name": "Python 3",
   "language": "python",
   "name": "python3"
  },
  "language_info": {
   "codemirror_mode": {
    "name": "ipython",
    "version": 3
   },
   "file_extension": ".py",
   "mimetype": "text/x-python",
   "name": "python",
   "nbconvert_exporter": "python",
   "pygments_lexer": "ipython3",
   "version": "3.10.12"
  }
 },
 "nbformat": 4,
 "nbformat_minor": 2
}
