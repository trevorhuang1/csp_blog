{
 "cells": [
  {
   "cell_type": "markdown",
   "metadata": {},
   "source": [
    "---\n",
    "toc: true\n",
    "comments: true\n",
    "layout: post\n",
    "title: PixelPartner Individual Review\n",
    "description: This is a review of all of my accomplishments and struggles through the project.\n",
    "courses: { compsci: {week: 11} }\n",
    "type: tangibles\n",
    "---"
   ]
  },
  {
   "cell_type": "markdown",
   "metadata": {},
   "source": [
    "- Over the course of this project, I got a lot of opportunities to grow as a coder. I'm happy to say that I have been able to work with both front and backend which has increased my knowledge of the class. Here are some issues I ran into:\n",
    "    - Image to base64 code: <a href=\"https://github.com/BearytheGreenBear/fte-frontend/issues/1\">Issue</a>\n",
    "    - Downloading blank image bug (No issue unfortunately)\n",
    "    - Backend image history: <a href=\"https://github.com/trevorhuang1/fte-backend/issues/2\">Issue</a>\n",
    "    - Displaying the "
   ]
  }
 ],
 "metadata": {
  "language_info": {
   "name": "python"
  }
 },
 "nbformat": 4,
 "nbformat_minor": 2
}
